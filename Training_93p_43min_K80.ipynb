{
  "nbformat": 4,
  "nbformat_minor": 0,
  "metadata": {
    "colab": {
      "name": "Training_93p_43min K80.ipynb",
      "version": "0.3.2",
      "provenance": [],
      "collapsed_sections": [],
      "include_colab_link": true
    },
    "kernelspec": {
      "display_name": "Python 3",
      "language": "python",
      "name": "python3"
    },
    "accelerator": "GPU"
  },
  "cells": [
    {
      "cell_type": "markdown",
      "metadata": {
        "id": "view-in-github",
        "colab_type": "text"
      },
      "source": [
        "[View in Colaboratory](https://colab.research.google.com/github/NicolasMauge/Pytorch_Projects/blob/master/Training_93p_43min_K80.ipynb)"
      ]
    },
    {
      "metadata": {
        "id": "pQKQWBCey1OH",
        "colab_type": "code",
        "colab": {
          "base_uri": "https://localhost:8080/",
          "height": 301
        },
        "outputId": "0da2fe6b-40d1-4b90-fdf0-1788a7bb3dce"
      },
      "cell_type": "code",
      "source": [
        "!git clone https://github.com/NicolasMauge/Utils\n",
        "!git clone https://github.com/NicolasMauge/Pytorch_Projects\n",
        "!. Utils/colab_init.sh\n",
        "import sys\n",
        "sys.path.append('Utils')\n",
        "import colab_utils as utils\n",
        "\n",
        "sys.path.append('Pytorch_Projects')\n",
        "import schedulers as sch"
      ],
      "execution_count": 2,
      "outputs": [
        {
          "output_type": "stream",
          "text": [
            "Cloning into 'Utils'...\n",
            "remote: Counting objects: 66, done.\u001b[K\n",
            "remote: Compressing objects: 100% (36/36), done.\u001b[K\n",
            "remote: Total 66 (delta 18), reused 55 (delta 14), pack-reused 0\u001b[K\n",
            "Unpacking objects: 100% (66/66), done.\n",
            "Cloning into 'Pytorch_Projects'...\n",
            "remote: Counting objects: 53, done.\u001b[K\n",
            "remote: Compressing objects: 100% (35/35), done.\u001b[K\n",
            "remote: Total 53 (delta 20), reused 42 (delta 12), pack-reused 0\u001b[K\n",
            "Unpacking objects: 100% (53/53), done.\n",
            "Install of the PyTorch packages\n",
            "tcmalloc: large alloc 1073750016 bytes == 0x59eb6000 @  0x7f08618e11c4 0x46d6a4 0x5fcbcc 0x4c494d 0x54f3c4 0x553aaf 0x54e4c8 0x54f4f6 0x553aaf 0x54efc1 0x54f24d 0x553aaf 0x54efc1 0x54f24d 0x553aaf 0x54efc1 0x54f24d 0x551ee0 0x54e4c8 0x54f4f6 0x553aaf 0x54efc1 0x54f24d 0x551ee0 0x54efc1 0x54f24d 0x551ee0 0x54e4c8 0x54f4f6 0x553aaf 0x54e4c8\n",
            "Install of the PyDrive package\n",
            "Install of the kaggle package\n"
          ],
          "name": "stdout"
        }
      ]
    },
    {
      "metadata": {
        "id": "dUmRHSNPCSSW",
        "colab_type": "code",
        "colab": {
          "base_uri": "https://localhost:8080/",
          "height": 51
        },
        "outputId": "8e6f1861-69b2-4978-bfba-0fd9ac340ef8"
      },
      "cell_type": "code",
      "source": [
        "#!cd Pytorch_Projects && git fetch --all && git reset --hard origin/master\n",
        "#import schedulers as sch"
      ],
      "execution_count": 3,
      "outputs": [
        {
          "output_type": "stream",
          "text": [
            "Fetching origin\n",
            "HEAD is now at e8e7fc7 import scheduler\n"
          ],
          "name": "stdout"
        }
      ]
    },
    {
      "metadata": {
        "id": "9Qjq3jwp3_YU",
        "colab_type": "text"
      },
      "cell_type": "markdown",
      "source": [
        "# Import of the libraries"
      ]
    },
    {
      "metadata": {
        "id": "8JzH-XCl3fLw",
        "colab_type": "code",
        "colab": {}
      },
      "cell_type": "code",
      "source": [
        "# Import Libraries\n",
        "import torch\n",
        "import torch.nn as nn\n",
        "import torchvision\n",
        "import torchvision.transforms as transforms\n",
        "import torch.backends.cudnn as cudnn\n",
        "from torchvision.models.resnet import resnet18\n",
        "\n",
        "import pandas as pd\n",
        "from sklearn.model_selection import train_test_split\n",
        "import numpy as np\n",
        "\n",
        "import matplotlib.pyplot as plt\n",
        "\n",
        "from torch.nn import functional as F\n",
        "\n",
        "from PIL import Image"
      ],
      "execution_count": 0,
      "outputs": []
    },
    {
      "metadata": {
        "id": "wBH5pjvV4Fdh",
        "colab_type": "text"
      },
      "cell_type": "markdown",
      "source": [
        "# Definition of the model"
      ]
    },
    {
      "metadata": {
        "id": "rIyyiNDe4Oof",
        "colab_type": "text"
      },
      "cell_type": "markdown",
      "source": [
        "## Model"
      ]
    },
    {
      "metadata": {
        "id": "c_KAQeqB8S_k",
        "colab_type": "code",
        "colab": {}
      },
      "cell_type": "code",
      "source": [
        "import models.preact_resnet2 as resnet18_pre\n",
        "import models.wideresnet as wide\n",
        "from train import BasicModel"
      ],
      "execution_count": 0,
      "outputs": []
    },
    {
      "metadata": {
        "id": "2krKDSXW9qJ4",
        "colab_type": "code",
        "colab": {}
      },
      "cell_type": "code",
      "source": [
        "def init_resnet18():\n",
        "    device = 'cuda' if torch.cuda.is_available() else 'cpu'\n",
        "    model = resnet18_pre.ResNet18().to(device).half()\n",
        "\n",
        "    if device == 'cuda':\n",
        "        model = torch.nn.DataParallel(model)\n",
        "        cudnn.benchmark = True\n",
        "    \n",
        "    return model"
      ],
      "execution_count": 0,
      "outputs": []
    },
    {
      "metadata": {
        "id": "E6tiv2Hs-AcF",
        "colab_type": "code",
        "colab": {
          "base_uri": "https://localhost:8080/",
          "height": 34
        },
        "outputId": "ab945767-0629-41b9-ae72-f0a201a58c31"
      },
      "cell_type": "code",
      "source": [
        "# test to verify that the model can work with cifar10\n",
        "y = init_resnet18()(torch.randn(100,3,32,32))\n",
        "print(y.size())\n",
        "\n",
        "# expected \"torch.Size([100, 10])\""
      ],
      "execution_count": 8,
      "outputs": [
        {
          "output_type": "stream",
          "text": [
            "torch.Size([100, 10])\n"
          ],
          "name": "stdout"
        }
      ]
    },
    {
      "metadata": {
        "id": "L7IZdy174zQV",
        "colab_type": "text"
      },
      "cell_type": "markdown",
      "source": [
        "# Definition of the parameters and load of the data"
      ]
    },
    {
      "metadata": {
        "id": "BacPqkpQKBAS",
        "colab_type": "code",
        "colab": {}
      },
      "cell_type": "code",
      "source": [
        "# from https://github.com/bkj/basenet/blob/master/examples/cifar/cifar10.py\n",
        "def ReflectionPadding(margin=(4, 4)):\n",
        "    \n",
        "    def _reflection_padding(x):\n",
        "        x = np.asarray(x)\n",
        "        if len(x.shape) == 2:\n",
        "            x = np.pad(x, [(margin[0], margin[0]), (margin[1], margin[1])], mode='reflect')\n",
        "        elif len(x.shape) == 3:\n",
        "            x = np.pad(x, [(margin[0], margin[0]), (margin[1], margin[1]), (0, 0)], mode='reflect')\n",
        "        \n",
        "        return Image.fromarray(x)\n",
        "    \n",
        "    return transforms.Lambda(_reflection_padding)"
      ],
      "execution_count": 0,
      "outputs": []
    },
    {
      "metadata": {
        "id": "k_4i0SFt2wk4",
        "colab_type": "code",
        "colab": {
          "base_uri": "https://localhost:8080/",
          "height": 51
        },
        "outputId": "bf4c146b-5f1e-4771-e5c8-2eb8f45db95d"
      },
      "cell_type": "code",
      "source": [
        "batch_size = 128   \n",
        "\n",
        "transform_train = transforms.Compose([\n",
        "    ReflectionPadding(margin=(4, 4)),\n",
        "    transforms.RandomCrop(32),\n",
        "    transforms.ColorJitter(.25,.25,.25),\n",
        "    transforms.RandomRotation(2),\n",
        "    transforms.RandomHorizontalFlip(),\n",
        "    transforms.ToTensor(),\n",
        "    transforms.Normalize(mean=[0.4914 , 0.48216, 0.44653], std=[0.24703, 0.24349, 0.26159]),\n",
        "])\n",
        "# --> the minimal transform_train is \n",
        "# transform_train = transforms.Compose([\n",
        "#     transforms.ToTensor()\n",
        "# ])\n",
        "\n",
        "transform_test = transforms.Compose([\n",
        "    transforms.ToTensor(),\n",
        "    transforms.Normalize((0.4914, 0.4822, 0.4465), (0.2023, 0.1994, 0.2010)),\n",
        "])\n",
        "\n",
        "train_set = torchvision.datasets.CIFAR10(root='./data', train=True, download=True, transform=transform_train)\n",
        "train_loader = torch.utils.data.DataLoader(train_set, batch_size=batch_size, shuffle=True, num_workers=4)\n",
        "\n",
        "test_set = torchvision.datasets.CIFAR10(root='./data', train=False, download=True, transform=transform_test)\n",
        "test_loader = torch.utils.data.DataLoader(test_set, batch_size=512, shuffle=False, num_workers=4)"
      ],
      "execution_count": 10,
      "outputs": [
        {
          "output_type": "stream",
          "text": [
            "Downloading https://www.cs.toronto.edu/~kriz/cifar-10-python.tar.gz to ./data/cifar-10-python.tar.gz\n",
            "Files already downloaded and verified\n"
          ],
          "name": "stdout"
        }
      ]
    },
    {
      "metadata": {
        "id": "cDBiBay25uBZ",
        "colab_type": "text"
      },
      "cell_type": "markdown",
      "source": [
        "# Schedulers"
      ]
    },
    {
      "metadata": {
        "id": "sWKUElUrPBIc",
        "colab_type": "text"
      },
      "cell_type": "markdown",
      "source": [
        "## Some definitions"
      ]
    },
    {
      "metadata": {
        "id": "sGLhT6JDjtJd",
        "colab_type": "code",
        "colab": {}
      },
      "cell_type": "code",
      "source": [
        "def plot_lr(clr, nb_iter):\n",
        "    test = [clr(n_iter) for n_iter in range(0, nb_iter)]\n",
        "\n",
        "    plt.plot(range(0,nb_iter), test, color = \"red\")\n",
        "    plt.xlabel(\"Step\")\n",
        "    plt.ylabel(\"Learning rate\")\n",
        "    plt.title(\"Lr triangle\")\n",
        "    plt.grid(True,which=\"both\")\n",
        "    plt.show()"
      ],
      "execution_count": 0,
      "outputs": []
    },
    {
      "metadata": {
        "id": "85sw0Ta-42GM",
        "colab_type": "code",
        "colab": {
          "base_uri": "https://localhost:8080/",
          "height": 376
        },
        "outputId": "ba179d39-a605-4990-9fc8-b2904a2b3e3d"
      },
      "cell_type": "code",
      "source": [
        "clr = sch.CyclicLR(base_lr=0.0001, max_lr=0.1, iter_by_epoch=391, cycle_len=15)\n",
        "plot_lr(clr, 391*30)"
      ],
      "execution_count": 60,
      "outputs": [
        {
          "output_type": "display_data",
          "data": {
            "image/png": "[encoded data removed]",
            "text/plain": [
              "<matplotlib.figure.Figure at 0x7f3845c30470>"
            ]
          },
          "metadata": {
            "tags": []
          }
        }
      ]
    },
    {
      "metadata": {
        "id": "a0mAatfu5cAT",
        "colab_type": "text"
      },
      "cell_type": "markdown",
      "source": [
        "# Training"
      ]
    },
    {
      "metadata": {
        "id": "yoX6NxIQKPjF",
        "colab_type": "code",
        "colab": {}
      },
      "cell_type": "code",
      "source": [
        "base_lr=0.01\n",
        "#wd = 4e-4\n",
        "wd = 1e-4\n",
        "\n",
        "error = nn.CrossEntropyLoss()\n",
        "model_class = BasicModel(init_resnet18(), train_loader, test_loader, error, weight_decay=wd)"
      ],
      "execution_count": 0,
      "outputs": []
    },
    {
      "metadata": {
        "id": "BUSP61q1_w9w",
        "colab_type": "code",
        "colab": {}
      },
      "cell_type": "code",
      "source": [
        "#warm up\n",
        "%time model_class.train(1, cycle_len=1, lr=0.1)\n",
        "model_class.lr_find([0.0001, 5], cycle_len=1)\n",
        "model_class = BasicModel(init_resnet18(), train_loader, test_loader, error, weight_decay=wd)"
      ],
      "execution_count": 0,
      "outputs": []
    },
    {
      "metadata": {
        "id": "LS-1bpNBStyV",
        "colab_type": "code",
        "colab": {
          "base_uri": "https://localhost:8080/",
          "height": 646
        },
        "outputId": "daf288fd-523f-4df6-ba21-52fe601bb7ee"
      },
      "cell_type": "code",
      "source": [
        "clr = sch.CyclicLR(base_lr=0.0001, max_lr=0.2, iter_by_epoch=len(train_loader), cycle_len=30)\n",
        "%time model_class.train(1, cycle_len=30, sched_lr=clr)"
      ],
      "execution_count": 46,
      "outputs": [
        {
          "output_type": "stream",
          "text": [
            "Epochs: 0 Cycle: 0 Iter: 391  Tr Loss: 0.01493515625  Tr Acc: 29 Test Acc: 43.03 Last lr: 0.013392583120204611\n",
            "Epochs: 1 Cycle: 0 Iter: 782  Tr Loss: 0.01026451171875  Tr Acc: 51 Test Acc: 60.71 Last lr: 0.026719249786871277\n",
            "Epochs: 2 Cycle: 0 Iter: 1173  Tr Loss: 0.00790197265625  Tr Acc: 63 Test Acc: 68.76 Last lr: 0.040045916453537944\n",
            "Epochs: 3 Cycle: 0 Iter: 1564  Tr Loss: 0.006387890625  Tr Acc: 71 Test Acc: 71.9 Last lr: 0.05337258312020461\n",
            "Epochs: 4 Cycle: 0 Iter: 1955  Tr Loss: 0.005584013671875  Tr Acc: 75 Test Acc: 77.65 Last lr: 0.06669924978687128\n",
            "Epochs: 5 Cycle: 0 Iter: 2346  Tr Loss: 0.0049845556640625  Tr Acc: 78 Test Acc: 74.62 Last lr: 0.08002591645353795\n",
            "Epochs: 6 Cycle: 0 Iter: 2737  Tr Loss: 0.0045769580078125  Tr Acc: 80 Test Acc: 78.61 Last lr: 0.0933525831202046\n",
            "Epochs: 7 Cycle: 0 Iter: 3128  Tr Loss: 0.0042124658203125  Tr Acc: 81 Test Acc: 81.08 Last lr: 0.10667924978687132\n",
            "Epochs: 8 Cycle: 0 Iter: 3519  Tr Loss: 0.003913671875  Tr Acc: 82 Test Acc: 80.76 Last lr: 0.12000591645353793\n",
            "Epochs: 9 Cycle: 0 Iter: 3910  Tr Loss: 0.00365524169921875  Tr Acc: 84 Test Acc: 84.78 Last lr: 0.13333258312020463\n",
            "Epochs: 10 Cycle: 0 Iter: 4301  Tr Loss: 0.0033719384765625  Tr Acc: 85 Test Acc: 83.55 Last lr: 0.14665924978687125\n",
            "Epochs: 11 Cycle: 0 Iter: 4692  Tr Loss: 0.00319334716796875  Tr Acc: 86 Test Acc: 86.47 Last lr: 0.15998591645353796\n",
            "Epochs: 12 Cycle: 0 Iter: 5083  Tr Loss: 0.0029810791015625  Tr Acc: 86 Test Acc: 81.85 Last lr: 0.1733125831202046\n",
            "Epochs: 13 Cycle: 0 Iter: 5474  Tr Loss: 0.00281332275390625  Tr Acc: 87 Test Acc: 86.66 Last lr: 0.1866392497868713\n",
            "Epochs: 14 Cycle: 0 Iter: 5865  Tr Loss: 0.00263763916015625  Tr Acc: 88 Test Acc: 87.7 Last lr: 0.19996591645353795\n",
            "Epochs: 15 Cycle: 0 Iter: 6256  Tr Loss: 0.00244568115234375  Tr Acc: 89 Test Acc: 82.35 Last lr: 0.1867074168797954\n",
            "Epochs: 16 Cycle: 0 Iter: 6647  Tr Loss: 0.0021195849609375  Tr Acc: 90 Test Acc: 89.5 Last lr: 0.17338075021312874\n",
            "Epochs: 17 Cycle: 0 Iter: 7038  Tr Loss: 0.001874989013671875  Tr Acc: 91 Test Acc: 88.37 Last lr: 0.16005408354646206\n",
            "Epochs: 18 Cycle: 0 Iter: 7429  Tr Loss: 0.00168233642578125  Tr Acc: 92 Test Acc: 90.27 Last lr: 0.1467274168797954\n",
            "title: save_ep18_acc90.pth, mimeType: application/octet-stream\n",
            "Epochs: 19 Cycle: 0 Iter: 7820  Tr Loss: 0.00150330810546875  Tr Acc: 93 Test Acc: 90.47 Last lr: 0.13340075021312875\n",
            "Epochs: 20 Cycle: 0 Iter: 8211  Tr Loss: 0.001312821044921875  Tr Acc: 94 Test Acc: 91.05 Last lr: 0.12007408354646208\n",
            "title: save_ep20_acc91.pth, mimeType: application/octet-stream\n",
            "Epochs: 21 Cycle: 0 Iter: 8602  Tr Loss: 0.00116513671875  Tr Acc: 94 Test Acc: 90.79 Last lr: 0.10674741687979543\n",
            "Epochs: 22 Cycle: 0 Iter: 8993  Tr Loss: 0.00105380615234375  Tr Acc: 95 Test Acc: 91.66 Last lr: 0.09342075021312876\n",
            "Epochs: 23 Cycle: 0 Iter: 9384  Tr Loss: 0.0008837078857421875  Tr Acc: 96 Test Acc: 91.42 Last lr: 0.0800940835464621\n",
            "Epochs: 24 Cycle: 0 Iter: 9775  Tr Loss: 0.0007964923095703125  Tr Acc: 96 Test Acc: 92.41 Last lr: 0.06676741687979543\n",
            "title: save_ep24_acc92.pth, mimeType: application/octet-stream\n",
            "Epochs: 25 Cycle: 0 Iter: 10166  Tr Loss: 0.0006482003784179688  Tr Acc: 97 Test Acc: 92.21 Last lr: 0.05344075021312872\n",
            "Epochs: 26 Cycle: 0 Iter: 10557  Tr Loss: 0.0005464846801757812  Tr Acc: 97 Test Acc: 92.81 Last lr: 0.04011408354646205\n",
            "Epochs: 27 Cycle: 0 Iter: 10948  Tr Loss: 0.000484586181640625  Tr Acc: 97 Test Acc: 92.96 Last lr: 0.026787416879795384\n",
            "title: save_ep28_acc93.pth, mimeType: application/octet-stream\n",
            "Epochs: 28 Cycle: 0 Iter: 11339  Tr Loss: 0.0004087725830078125  Tr Acc: 98 Test Acc: 93.11 Last lr: 0.013460750213128718\n",
            "title: save_ep29_acc93.pth, mimeType: application/octet-stream\n",
            "Epochs: 29 Cycle: 0 Iter: 11730  Tr Loss: 0.0003365416717529297  Tr Acc: 98 Test Acc: 93.17 Last lr: 0.00013408354646205333\n",
            "CPU times: user 30min 59s, sys: 9min 25s, total: 40min 25s\n",
            "Wall time: 43min 15s\n"
          ],
          "name": "stdout"
        }
      ]
    },
    {
      "metadata": {
        "id": "HoGOlZlIUwbQ",
        "colab_type": "code",
        "colab": {
          "base_uri": "https://localhost:8080/",
          "height": 34
        },
        "outputId": "94ab6249-c31e-47a1-8a30-90722b9d38b9"
      },
      "cell_type": "code",
      "source": [
        "model_class.save_model(\"cifar10_2018-08-22.pth\", to_google_drive=True)"
      ],
      "execution_count": 32,
      "outputs": [
        {
          "output_type": "stream",
          "text": [
            "title: cifar10_2018-08-22.pth, mimeType: application/octet-stream\n"
          ],
          "name": "stdout"
        }
      ]
    }
  ]
}