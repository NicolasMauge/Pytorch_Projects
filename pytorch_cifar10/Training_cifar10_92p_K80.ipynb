{
 "cells": [
  {
   "cell_type": "markdown",
   "metadata": {
    "colab_type": "text",
    "id": "view-in-github"
   },
   "source": [
    "[View in Colaboratory](https://colab.research.google.com/github/NicolasMauge/Pytorch_Projects/blob/master/Training_92p_K80.ipynb)"
   ]
  },
  {
   "cell_type": "code",
   "execution_count": 1,
   "metadata": {
    "colab": {
     "base_uri": "https://localhost:8080/",
     "height": 102
    },
    "colab_type": "code",
    "id": "pQKQWBCey1OH",
    "outputId": "eefb393d-d865-4798-85b1-def0d4244727"
   },
   "outputs": [
    {
     "name": "stdout",
     "output_type": "stream",
     "text": [
      "fatal: destination path 'Utils' already exists and is not an empty directory.\n",
      "fatal: destination path 'Pytorch_Projects' already exists and is not an empty directory.\n",
      "Install of the PyTorch packages\n",
      "Install of the PyDrive package\n",
      "Install of the kaggle package\n"
     ]
    }
   ],
   "source": [
    "!git clone https://github.com/NicolasMauge/Utils\n",
    "!git clone https://github.com/NicolasMauge/learning_projects\n",
    "!. Utils/colab_init.sh\n",
    "import sys\n",
    "sys.path.append('Utils')\n",
    "import colab_utils as utils\n",
    "\n",
    "sys.path.append('learning_projects')\n",
    "import schedulers as sch"
   ]
  },
  {
   "cell_type": "code",
   "execution_count": 0,
   "metadata": {
    "colab": {},
    "colab_type": "code",
    "id": "dUmRHSNPCSSW"
   },
   "outputs": [],
   "source": [
    "#!cd Pytorch_Projects && git fetch --all && git reset --hard origin/master\n",
    "#import schedulers as sch"
   ]
  },
  {
   "cell_type": "markdown",
   "metadata": {
    "colab_type": "text",
    "id": "9Qjq3jwp3_YU"
   },
   "source": [
    "# Import of the libraries"
   ]
  },
  {
   "cell_type": "code",
   "execution_count": 0,
   "metadata": {
    "colab": {},
    "colab_type": "code",
    "id": "8JzH-XCl3fLw"
   },
   "outputs": [],
   "source": [
    "# Import Libraries\n",
    "import torch\n",
    "import torch.nn as nn\n",
    "import torchvision\n",
    "import torchvision.transforms as transforms\n",
    "import torch.backends.cudnn as cudnn\n",
    "from torchvision.models.resnet import resnet18\n",
    "\n",
    "import pandas as pd\n",
    "from sklearn.model_selection import train_test_split\n",
    "import numpy as np\n",
    "\n",
    "import matplotlib.pyplot as plt\n",
    "\n",
    "from torch.nn import functional as F\n",
    "\n",
    "from PIL import Image"
   ]
  },
  {
   "cell_type": "markdown",
   "metadata": {
    "colab_type": "text",
    "id": "wBH5pjvV4Fdh"
   },
   "source": [
    "# Definition of the model"
   ]
  },
  {
   "cell_type": "markdown",
   "metadata": {
    "colab_type": "text",
    "id": "rIyyiNDe4Oof"
   },
   "source": [
    "## Model"
   ]
  },
  {
   "cell_type": "code",
   "execution_count": 0,
   "metadata": {
    "colab": {},
    "colab_type": "code",
    "id": "c_KAQeqB8S_k"
   },
   "outputs": [],
   "source": [
    "import models.preact_resnet2 as resnet18_pre\n",
    "import models.wideresnet as wide\n",
    "from train import BasicModel"
   ]
  },
  {
   "cell_type": "code",
   "execution_count": 0,
   "metadata": {
    "colab": {},
    "colab_type": "code",
    "id": "2krKDSXW9qJ4"
   },
   "outputs": [],
   "source": [
    "def init_resnet18():\n",
    "    device = 'cuda' if torch.cuda.is_available() else 'cpu'\n",
    "    model = resnet18_pre.ResNet18().to(device).half()\n",
    "\n",
    "    if device == 'cuda':\n",
    "        model = torch.nn.DataParallel(model)\n",
    "        cudnn.benchmark = True\n",
    "    \n",
    "    return model"
   ]
  },
  {
   "cell_type": "code",
   "execution_count": 6,
   "metadata": {
    "colab": {
     "base_uri": "https://localhost:8080/",
     "height": 34
    },
    "colab_type": "code",
    "id": "E6tiv2Hs-AcF",
    "outputId": "11c8cff4-ca68-4e40-ba1c-90306ef41de6"
   },
   "outputs": [
    {
     "name": "stdout",
     "output_type": "stream",
     "text": [
      "torch.Size([100, 10])\n"
     ]
    }
   ],
   "source": [
    "# test to verify that the model can work with cifar10\n",
    "y = init_resnet18()(torch.randn(100,3,32,32))\n",
    "print(y.size())\n",
    "\n",
    "# expected \"torch.Size([100, 10])\""
   ]
  },
  {
   "cell_type": "markdown",
   "metadata": {
    "colab_type": "text",
    "id": "L7IZdy174zQV"
   },
   "source": [
    "# Definition of the parameters and load of the data"
   ]
  },
  {
   "cell_type": "code",
   "execution_count": 0,
   "metadata": {
    "colab": {},
    "colab_type": "code",
    "id": "BacPqkpQKBAS"
   },
   "outputs": [],
   "source": [
    "# from https://github.com/bkj/basenet/blob/master/examples/cifar/cifar10.py\n",
    "def ReflectionPadding(margin=(4, 4)):\n",
    "    \n",
    "    def _reflection_padding(x):\n",
    "        x = np.asarray(x)\n",
    "        if len(x.shape) == 2:\n",
    "            x = np.pad(x, [(margin[0], margin[0]), (margin[1], margin[1])], mode='reflect')\n",
    "        elif len(x.shape) == 3:\n",
    "            x = np.pad(x, [(margin[0], margin[0]), (margin[1], margin[1]), (0, 0)], mode='reflect')\n",
    "        \n",
    "        return Image.fromarray(x)\n",
    "    \n",
    "    return transforms.Lambda(_reflection_padding)"
   ]
  },
  {
   "cell_type": "code",
   "execution_count": 8,
   "metadata": {
    "colab": {
     "base_uri": "https://localhost:8080/",
     "height": 71
    },
    "colab_type": "code",
    "id": "k_4i0SFt2wk4",
    "outputId": "a917eac3-3197-4a4a-e7f7-202ec48d84bf"
   },
   "outputs": [
    {
     "name": "stdout",
     "output_type": "stream",
     "text": [
      "Files already downloaded and verified\n",
      "Files already downloaded and verified\n"
     ]
    }
   ],
   "source": [
    "batch_size = 128   \n",
    "\n",
    "transform_train = transforms.Compose([\n",
    "    ReflectionPadding(margin=(4, 4)),\n",
    "    transforms.RandomCrop(32),\n",
    "    transforms.ColorJitter(.25,.25,.25),\n",
    "    transforms.RandomRotation(2),\n",
    "    transforms.RandomHorizontalFlip(),\n",
    "    transforms.ToTensor(),\n",
    "    transforms.Normalize(mean=[0.4914 , 0.48216, 0.44653], std=[0.24703, 0.24349, 0.26159]),\n",
    "])\n",
    "# --> the minimal transform_train is \n",
    "# transform_train = transforms.Compose([\n",
    "#     transforms.ToTensor()\n",
    "# ])\n",
    "\n",
    "transform_test = transforms.Compose([\n",
    "    transforms.ToTensor(),\n",
    "    transforms.Normalize((0.4914, 0.4822, 0.4465), (0.2023, 0.1994, 0.2010)),\n",
    "])\n",
    "\n",
    "train_set = torchvision.datasets.CIFAR10(root='./data', train=True, download=True, transform=transform_train)\n",
    "train_loader = torch.utils.data.DataLoader(train_set, batch_size=batch_size, shuffle=True, num_workers=4)\n",
    "\n",
    "test_set = torchvision.datasets.CIFAR10(root='./data', train=False, download=True, transform=transform_test)\n",
    "test_loader = torch.utils.data.DataLoader(test_set, batch_size=512, shuffle=False, num_workers=4)"
   ]
  },
  {
   "cell_type": "markdown",
   "metadata": {
    "colab_type": "text",
    "id": "cDBiBay25uBZ"
   },
   "source": [
    "# Schedulers"
   ]
  },
  {
   "cell_type": "markdown",
   "metadata": {
    "colab_type": "text",
    "id": "sWKUElUrPBIc"
   },
   "source": [
    "## Some definitions"
   ]
  },
  {
   "cell_type": "code",
   "execution_count": 0,
   "metadata": {
    "colab": {},
    "colab_type": "code",
    "id": "sGLhT6JDjtJd"
   },
   "outputs": [],
   "source": [
    "def plot_lr(clr, nb_iter):\n",
    "    test = [clr(n_iter) for n_iter in range(0, nb_iter)]\n",
    "\n",
    "    plt.plot(range(0,nb_iter), test, color = \"red\")\n",
    "    plt.xlabel(\"Step\")\n",
    "    plt.ylabel(\"Learning rate\")\n",
    "    plt.title(\"Lr triangle\")\n",
    "    plt.grid(True,which=\"both\")\n",
    "    plt.show()"
   ]
  },
  {
   "cell_type": "code",
   "execution_count": 10,
   "metadata": {
    "colab": {
     "base_uri": "https://localhost:8080/",
     "height": 376
    },
    "colab_type": "code",
    "id": "85sw0Ta-42GM",
    "outputId": "599510af-d41e-446b-edaa-970e017b5bdc"
   },
   "outputs": [
    {
     "data": {
      "image/png": "[encoded data removed]",
      "text/plain": [
       "<matplotlib.figure.Figure at 0x7f4ba6d01be0>"
      ]
     },
     "metadata": {
      "tags": []
     },
     "output_type": "display_data"
    }
   ],
   "source": [
    "clr = sch.CyclicLR(base_lr=0.0001, max_lr=0.1, iter_by_epoch=391, cycle_len=15)\n",
    "plot_lr(clr, 391*30)"
   ]
  },
  {
   "cell_type": "markdown",
   "metadata": {
    "colab_type": "text",
    "id": "a0mAatfu5cAT"
   },
   "source": [
    "# Training"
   ]
  },
  {
   "cell_type": "code",
   "execution_count": 0,
   "metadata": {
    "colab": {},
    "colab_type": "code",
    "id": "yoX6NxIQKPjF"
   },
   "outputs": [],
   "source": [
    "base_lr=0.01\n",
    "#wd = 4e-4\n",
    "wd = 1e-4\n",
    "\n",
    "error = nn.CrossEntropyLoss()\n",
    "model_class = BasicModel(init_resnet18(), train_loader, test_loader, error, weight_decay=wd)"
   ]
  },
  {
   "cell_type": "code",
   "execution_count": 12,
   "metadata": {
    "colab": {
     "base_uri": "https://localhost:8080/",
     "height": 811
    },
    "colab_type": "code",
    "id": "BUSP61q1_w9w",
    "outputId": "faca7597-557d-48ac-a775-6ee43e95584c"
   },
   "outputs": [
    {
     "name": "stdout",
     "output_type": "stream",
     "text": [
      "Epochs: 0 Cycle: 0 Iter: 391  Tr Loss: 0.01281625  Tr Acc: 39 Test Acc: 56.63 Last lr: 0.1\n",
      "CPU times: user 1min, sys: 20.3 s, total: 1min 20s\n",
      "Wall time: 1min 26s\n",
      "Epochs: 1 Cycle: 0 Iter: 22  Tr Loss: 0.013642397793856535  Tr Acc: 44 Test Acc: 14.66 Last lr: 0.2686368286445009\n"
     ]
    },
    {
     "data": {
      "image/png": "[encoded data removed]",
      "text/plain": [
       "<matplotlib.figure.Figure at 0x7f9106603400>"
      ]
     },
     "metadata": {
      "tags": []
     },
     "output_type": "display_data"
    },
    {
     "data": {
      "image/png": "[encoded data removed]",
      "text/plain": [
       "<matplotlib.figure.Figure at 0x7f90b0da2978>"
      ]
     },
     "metadata": {
      "tags": []
     },
     "output_type": "display_data"
    }
   ],
   "source": [
    "#warm up + lr find\n",
    "%time model_class.train(1, cycle_len=1, lr=0.1)\n",
    "model_class.lr_find([0.0001, 5], cycle_len=1)\n",
    "model_class = BasicModel(init_resnet18(), train_loader, test_loader, error, weight_decay=wd)"
   ]
  },
  {
   "cell_type": "code",
   "execution_count": 13,
   "metadata": {
    "colab": {
     "base_uri": "https://localhost:8080/",
     "height": 612
    },
    "colab_type": "code",
    "id": "LS-1bpNBStyV",
    "outputId": "9f5f1aaf-a59c-4f01-ca7e-4269f76a6611"
   },
   "outputs": [
    {
     "name": "stdout",
     "output_type": "stream",
     "text": [
      "Epochs: 0 Cycle: 0 Iter: 391  Tr Loss: 0.0152020703125  Tr Acc: 27 Test Acc: 40.5 Last lr: 0.013392583120204611\n",
      "Epochs: 1 Cycle: 0 Iter: 782  Tr Loss: 0.01065625  Tr Acc: 49 Test Acc: 58.11 Last lr: 0.026719249786871277\n",
      "Epochs: 2 Cycle: 0 Iter: 1173  Tr Loss: 0.00806935546875  Tr Acc: 62 Test Acc: 69.64 Last lr: 0.040045916453537944\n",
      "Epochs: 3 Cycle: 0 Iter: 1564  Tr Loss: 0.006423984375  Tr Acc: 71 Test Acc: 74.86 Last lr: 0.05337258312020461\n",
      "Epochs: 4 Cycle: 0 Iter: 1955  Tr Loss: 0.00555798828125  Tr Acc: 75 Test Acc: 75.49 Last lr: 0.06669924978687128\n",
      "Epochs: 5 Cycle: 0 Iter: 2346  Tr Loss: 0.004965458984375  Tr Acc: 78 Test Acc: 78.3 Last lr: 0.08002591645353795\n",
      "Epochs: 6 Cycle: 0 Iter: 2737  Tr Loss: 0.0045412451171875  Tr Acc: 80 Test Acc: 79.96 Last lr: 0.0933525831202046\n",
      "Epochs: 7 Cycle: 0 Iter: 3128  Tr Loss: 0.004187294921875  Tr Acc: 81 Test Acc: 80.61 Last lr: 0.10667924978687132\n",
      "Epochs: 8 Cycle: 0 Iter: 3519  Tr Loss: 0.0038972998046875  Tr Acc: 82 Test Acc: 79.17 Last lr: 0.12000591645353793\n",
      "Epochs: 9 Cycle: 0 Iter: 3910  Tr Loss: 0.0036258349609375  Tr Acc: 84 Test Acc: 83.67 Last lr: 0.13333258312020463\n",
      "Epochs: 10 Cycle: 0 Iter: 4301  Tr Loss: 0.0034017041015625  Tr Acc: 85 Test Acc: 84.92 Last lr: 0.14665924978687125\n",
      "Epochs: 11 Cycle: 0 Iter: 4692  Tr Loss: 0.00318369384765625  Tr Acc: 85 Test Acc: 86.37 Last lr: 0.15998591645353796\n",
      "Epochs: 12 Cycle: 0 Iter: 5083  Tr Loss: 0.00298676513671875  Tr Acc: 86 Test Acc: 87.06 Last lr: 0.1733125831202046\n",
      "Epochs: 13 Cycle: 0 Iter: 5474  Tr Loss: 0.0028097900390625  Tr Acc: 87 Test Acc: 84.98 Last lr: 0.1866392497868713\n",
      "Epochs: 14 Cycle: 0 Iter: 5865  Tr Loss: 0.002669210205078125  Tr Acc: 88 Test Acc: 87.5 Last lr: 0.19996591645353795\n",
      "Epochs: 15 Cycle: 0 Iter: 6256  Tr Loss: 0.00241431884765625  Tr Acc: 89 Test Acc: 89.37 Last lr: 0.1867074168797954\n",
      "Epochs: 16 Cycle: 0 Iter: 6647  Tr Loss: 0.002120928955078125  Tr Acc: 90 Test Acc: 89.52 Last lr: 0.17338075021312874\n",
      "Epochs: 17 Cycle: 0 Iter: 7038  Tr Loss: 0.001881669921875  Tr Acc: 91 Test Acc: 89.72 Last lr: 0.16005408354646206\n",
      "Epochs: 18 Cycle: 0 Iter: 7429  Tr Loss: 0.0016871533203125  Tr Acc: 92 Test Acc: 90.48 Last lr: 0.1467274168797954\n",
      "title: save_ep18_acc90.pth, mimeType: application/octet-stream\n",
      "Epochs: 19 Cycle: 0 Iter: 7820  Tr Loss: 0.001517454833984375  Tr Acc: 93 Test Acc: 90.3 Last lr: 0.13340075021312875\n",
      "Epochs: 20 Cycle: 0 Iter: 8211  Tr Loss: 0.0013474688720703126  Tr Acc: 93 Test Acc: 89.88 Last lr: 0.12007408354646208\n",
      "Epochs: 21 Cycle: 0 Iter: 8602  Tr Loss: 0.0011832928466796876  Tr Acc: 94 Test Acc: 91.42 Last lr: 0.10674741687979543\n",
      "title: save_ep21_acc91.pth, mimeType: application/octet-stream\n",
      "Epochs: 22 Cycle: 0 Iter: 8993  Tr Loss: 0.001030994873046875  Tr Acc: 95 Test Acc: 91.51 Last lr: 0.09342075021312876\n",
      "Epochs: 23 Cycle: 0 Iter: 9384  Tr Loss: 0.0009252740478515625  Tr Acc: 95 Test Acc: 91.65 Last lr: 0.0800940835464621\n",
      "Epochs: 24 Cycle: 0 Iter: 9775  Tr Loss: 0.000773353271484375  Tr Acc: 96 Test Acc: 92.16 Last lr: 0.06676741687979543\n",
      "title: save_ep24_acc92.pth, mimeType: application/octet-stream\n",
      "Epochs: 25 Cycle: 0 Iter: 10166  Tr Loss: 0.0006684274291992188  Tr Acc: 96 Test Acc: 92.41 Last lr: 0.05344075021312872\n",
      "Epochs: 26 Cycle: 0 Iter: 10557  Tr Loss: 0.0005807986450195313  Tr Acc: 97 Test Acc: 92.48 Last lr: 0.04011408354646205\n",
      "Epochs: 27 Cycle: 0 Iter: 10948  Tr Loss: 0.0004737077331542969  Tr Acc: 97 Test Acc: 92.92 Last lr: 0.026787416879795384\n",
      "Epochs: 28 Cycle: 0 Iter: 11339  Tr Loss: 0.0004005282592773438  Tr Acc: 98 Test Acc: 92.83 Last lr: 0.013460750213128718\n",
      "Epochs: 29 Cycle: 0 Iter: 11730  Tr Loss: 0.00034979766845703126  Tr Acc: 98 Test Acc: 92.92 Last lr: 0.00013408354646205333\n",
      "CPU times: user 30min 36s, sys: 9min 20s, total: 39min 57s\n",
      "Wall time: 42min 19s\n"
     ]
    }
   ],
   "source": [
    "clr = sch.CyclicLR(base_lr=0.0001, max_lr=0.2, iter_by_epoch=len(train_loader), cycle_len=30)\n",
    "%time model_class.train(1, cycle_len=30, sched_lr=clr)"
   ]
  },
  {
   "cell_type": "code",
   "execution_count": 14,
   "metadata": {
    "colab": {
     "base_uri": "https://localhost:8080/",
     "height": 34
    },
    "colab_type": "code",
    "id": "HoGOlZlIUwbQ",
    "outputId": "f02a7419-8103-4639-9a43-995a11ad258d"
   },
   "outputs": [
    {
     "name": "stdout",
     "output_type": "stream",
     "text": [
      "title: cifar10_93p.pth, mimeType: application/octet-stream\n"
     ]
    }
   ],
   "source": [
    "model_class.save_model(\"cifar10_93p.pth\", to_google_drive=True)"
   ]
  },
  {
   "cell_type": "code",
   "execution_count": 24,
   "metadata": {
    "colab": {
     "base_uri": "https://localhost:8080/",
     "height": 442
    },
    "colab_type": "code",
    "id": "33DPcZvLNORX",
    "outputId": "ac58ce61-1c05-47e4-dba0-19c91d2dbd58"
   },
   "outputs": [
    {
     "name": "stdout",
     "output_type": "stream",
     "text": [
      "Epochs: 0 Cycle: 0 Iter: 391  Tr Loss: 0.0145059765625  Tr Acc: 30 Test Acc: 49.04 Last lr: 0.020038874680306917\n",
      "Epochs: 1 Cycle: 0 Iter: 782  Tr Loss: 0.0101457421875  Tr Acc: 52 Test Acc: 48.54 Last lr: 0.04002887468030689\n",
      "Epochs: 2 Cycle: 0 Iter: 1173  Tr Loss: 0.0079777734375  Tr Acc: 63 Test Acc: 71.76 Last lr: 0.060018874680306915\n",
      "Epochs: 3 Cycle: 0 Iter: 1564  Tr Loss: 0.006620126953125  Tr Acc: 70 Test Acc: 74.49 Last lr: 0.08000887468030689\n",
      "Epochs: 4 Cycle: 0 Iter: 1955  Tr Loss: 0.005774072265625  Tr Acc: 74 Test Acc: 75.02 Last lr: 0.09999887468030691\n",
      "Epochs: 5 Cycle: 0 Iter: 2346  Tr Loss: 0.0050854443359375  Tr Acc: 78 Test Acc: 73.94 Last lr: 0.11998887468030693\n",
      "Epochs: 6 Cycle: 0 Iter: 2737  Tr Loss: 0.0045686376953125  Tr Acc: 80 Test Acc: 77.18 Last lr: 0.13997887468030693\n",
      "Epochs: 7 Cycle: 0 Iter: 3128  Tr Loss: 0.004195341796875  Tr Acc: 81 Test Acc: 79.77 Last lr: 0.1599688746803069\n",
      "Epochs: 8 Cycle: 0 Iter: 3519  Tr Loss: 0.003791533203125  Tr Acc: 83 Test Acc: 82.13 Last lr: 0.17995887468030689\n",
      "Epochs: 9 Cycle: 0 Iter: 3910  Tr Loss: 0.00351192626953125  Tr Acc: 84 Test Acc: 83.27 Last lr: 0.19994887468030692\n",
      "Epochs: 10 Cycle: 0 Iter: 4301  Tr Loss: 0.0030915283203125  Tr Acc: 86 Test Acc: 86.11 Last lr: 0.1800611253196931\n",
      "Epochs: 11 Cycle: 0 Iter: 4692  Tr Loss: 0.00266864990234375  Tr Acc: 88 Test Acc: 88.21 Last lr: 0.1600711253196931\n",
      "Epochs: 12 Cycle: 0 Iter: 5083  Tr Loss: 0.00234675048828125  Tr Acc: 89 Test Acc: 86.79 Last lr: 0.1400811253196931\n",
      "Epochs: 13 Cycle: 0 Iter: 5474  Tr Loss: 0.002015447998046875  Tr Acc: 90 Test Acc: 89.46 Last lr: 0.1200911253196931\n",
      "Epochs: 14 Cycle: 0 Iter: 5865  Tr Loss: 0.001760028076171875  Tr Acc: 92 Test Acc: 89.96 Last lr: 0.10010112531969312\n",
      "Epochs: 15 Cycle: 0 Iter: 6256  Tr Loss: 0.0015335986328125  Tr Acc: 93 Test Acc: 90.59 Last lr: 0.0801111253196931\n",
      "title: save_ep15_acc90.pth, mimeType: application/octet-stream\n",
      "Epochs: 16 Cycle: 0 Iter: 6647  Tr Loss: 0.0013177569580078124  Tr Acc: 94 Test Acc: 91.19 Last lr: 0.060121125319693124\n",
      "title: save_ep16_acc91.pth, mimeType: application/octet-stream\n",
      "Epochs: 17 Cycle: 0 Iter: 7038  Tr Loss: 0.0011172915649414062  Tr Acc: 95 Test Acc: 91.22 Last lr: 0.0401311253196931\n",
      "Epochs: 18 Cycle: 0 Iter: 7429  Tr Loss: 0.000931875  Tr Acc: 95 Test Acc: 91.84 Last lr: 0.020141125319693077\n",
      "Epochs: 19 Cycle: 0 Iter: 7820  Tr Loss: 0.0008108364868164062  Tr Acc: 96 Test Acc: 92.25 Last lr: 0.00015112531969310218\n",
      "title: save_ep19_acc92.pth, mimeType: application/octet-stream\n",
      "CPU times: user 20min 7s, sys: 6min 6s, total: 26min 14s\n",
      "Wall time: 27min 48s\n"
     ]
    }
   ],
   "source": [
    "model_class = BasicModel(init_resnet18(), train_loader, test_loader, error, weight_decay=wd)\n",
    "clr = sch.CyclicLR(base_lr=0.0001, max_lr=0.2, iter_by_epoch=len(train_loader), cycle_len=20)\n",
    "%time model_class.train(1, cycle_len=20, sched_lr=clr)"
   ]
  }
 ],
 "metadata": {
  "accelerator": "GPU",
  "colab": {
   "collapsed_sections": [],
   "include_colab_link": true,
   "name": "Training_92p_K80.ipynb",
   "provenance": [],
   "version": "0.3.2"
  },
  "kernelspec": {
   "display_name": "Python 3",
   "language": "python",
   "name": "python3"
  },
  "language_info": {
   "codemirror_mode": {
    "name": "ipython",
    "version": 3
   },
   "file_extension": ".py",
   "mimetype": "text/x-python",
   "name": "python",
   "nbconvert_exporter": "python",
   "pygments_lexer": "ipython3",
   "version": "3.6.6"
  }
 },
 "nbformat": 4,
 "nbformat_minor": 1
}
